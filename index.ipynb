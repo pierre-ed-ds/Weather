{
  "cells": [
    {
      "cell_type": "raw",
      "metadata": {},
      "source": [
        "---\n",
        "title: \"Météo Montpellier\"\n",
        "---"
      ],
      "id": "cb49483d"
    },
    {
      "cell_type": "code",
      "metadata": {},
      "source": [
        "#| label: fig-polar\n",
        "#| fig-cap: A line plot on a polar axis\n",
        "\n",
        "import numpy as np\n",
        "import matplotlib.pyplot as plt\n",
        "import requests\n",
        "import datetime\n",
        "import pooch\n",
        "from dateutil.relativedelta import relativedelta\n",
        "import zipfile\n",
        "import pandas as pd\n",
        "start_date = datetime.datetime.now() - relativedelta(days=3)\n",
        "end_date = start_date + relativedelta(days=4)\n",
        "debut=\"\"\n",
        "if (start_date.month <10 and start_date.day <10):\n",
        "    debut = f\"{start_date.year}-0{start_date.month}-0{start_date.day}\"\n",
        "elif start_date.day <10:\n",
        "    debut = f\"{start_date.year}-{start_date.month}-0{start_date.day}\"\n",
        "elif start_date.month <10:\n",
        "    debut = f\"{start_date.year}-0{start_date.month}-{start_date.day}\"\n",
        "else:\n",
        "    debut = f\"{start_date.year}-{start_date.month}-{start_date.day}\"\n",
        "\n",
        "\n",
        "print(debut)\n",
        "fin=\"\"\n",
        "if (end_date.month <10 and end_date.day <10):\n",
        "    fin = f\"{end_date.year}-0{end_date.month}-0{end_date.day}\"\n",
        "elif end_date.day <10:\n",
        "    fin = f\"{end_date.year}-{end_date.month}-0{end_date.day}\"\n",
        "elif start_date.month <10:\n",
        "    fin = f\"{end_date.year}-0{end_date.month}-{end_date.day}\"\n",
        "else:\n",
        "    fin = f\"{end_date.year}-{end_date.month}-{end_date.day}\"\n",
        "print(fin)\n",
        "url =f\"https://api.open-meteo.com/v1/meteofrance?latitude=43.6&longitude=3.8833&hourly=temperature_2m&start_date={debut}&end_date={fin}\"\n",
        "print(url)\n",
        "donnees = requests.get()\n",
        "#,relativehumidity_2m,apparent_temperature,precipitation,rain,snowfall,windspeed_10m,windspeed_20m,temperature_20m\n",
        "meteo = pd.read_csv(donnees)\n",
        "print(meteo)"
      ],
      "id": "fig-polar",
      "execution_count": null,
      "outputs": []
    }
  ],
  "metadata": {
    "kernelspec": {
      "name": "python3",
      "language": "python",
      "display_name": "Python 3 (ipykernel)"
    }
  },
  "nbformat": 4,
  "nbformat_minor": 5
}